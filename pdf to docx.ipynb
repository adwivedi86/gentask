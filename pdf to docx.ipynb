{
 "cells": [
  {
   "cell_type": "code",
   "execution_count": 1,
   "id": "f4afa7ff",
   "metadata": {},
   "outputs": [
    {
     "data": {
      "text/plain": [
       "'C:\\\\Users\\\\RADHA\\\\Documents\\\\gentask'"
      ]
     },
     "execution_count": 1,
     "metadata": {},
     "output_type": "execute_result"
    }
   ],
   "source": [
    "pwd"
   ]
  },
  {
   "cell_type": "code",
   "execution_count": 5,
   "id": "5c5254c1",
   "metadata": {},
   "outputs": [
    {
     "name": "stdout",
     "output_type": "stream",
     "text": [
      "Requirement already satisfied: glob2 in c:\\users\\radha\\anaconda3\\lib\\site-packages (0.7)\n"
     ]
    }
   ],
   "source": [
    "!pip install glob2"
   ]
  },
  {
   "cell_type": "code",
   "execution_count": 3,
   "id": "93585d3e",
   "metadata": {},
   "outputs": [
    {
     "name": "stdout",
     "output_type": "stream",
     "text": [
      "Collecting pypdf\n",
      "  Downloading pypdf-3.12.1-py3-none-any.whl (254 kB)\n",
      "     -------------------------------------- 254.8/254.8 kB 3.1 MB/s eta 0:00:00\n",
      "Installing collected packages: pypdf\n",
      "Successfully installed pypdf-3.12.1\n"
     ]
    }
   ],
   "source": [
    "!pip install pypdf"
   ]
  },
  {
   "cell_type": "code",
   "execution_count": 10,
   "id": "61d3d551",
   "metadata": {},
   "outputs": [
    {
     "name": "stdout",
     "output_type": "stream",
     "text": [
      "Requirement already satisfied: python-docx in c:\\users\\radha\\anaconda3\\lib\\site-packages (0.8.11)\n",
      "Requirement already satisfied: lxml>=2.3.2 in c:\\users\\radha\\anaconda3\\lib\\site-packages (from python-docx) (4.9.1)\n",
      "Requirement already satisfied: PyPDF2 in c:\\users\\radha\\anaconda3\\lib\\site-packages (3.0.1)\n",
      "Requirement already satisfied: PyPDF2 in c:\\users\\radha\\anaconda3\\lib\\site-packages (3.0.1)\n"
     ]
    }
   ],
   "source": [
    "!pip install python-docx\n",
    "!pip install PyPDF2\n",
    "!pip install --upgrade PyPDF2\n"
   ]
  },
  {
   "cell_type": "code",
   "execution_count": 11,
   "id": "f4334473",
   "metadata": {},
   "outputs": [],
   "source": [
    "import os\n",
    "import glob\n",
    "from PyPDF2 import PdfReader\n",
    "from docx import Document\n",
    "\n",
    "def pdf_to_docx(pdf_path, docx_path):\n",
    "    pdf_reader = PdfReader(pdf_path)\n",
    "    document = Document()\n",
    "\n",
    "    for page_num in range(len(pdf_reader.pages)):\n",
    "        page = pdf_reader.pages[page_num]\n",
    "        text = page.extract_text()\n",
    "        document.add_paragraph(text)\n",
    "\n",
    "    document.save(docx_path)\n",
    "\n",
    "def convert_directory_pdf_to_docx(pdf_directory, docx_directory):\n",
    "    # Create the output directory if it doesn't exist\n",
    "    if not os.path.exists(docx_directory):\n",
    "        os.makedirs(docx_directory)\n",
    "\n",
    "    # Get a list of PDF files in the input directory\n",
    "    pdf_files = glob.glob(os.path.join(pdf_directory, '*.pdf'))\n",
    "\n",
    "    for pdf_file in pdf_files:\n",
    "        # Construct the output file path\n",
    "        base_name = os.path.basename(pdf_file)\n",
    "        file_name = os.path.splitext(base_name)[0]\n",
    "        docx_file = os.path.join(docx_directory, f'{file_name}.docx')\n",
    "\n",
    "        # Convert the PDF file to DOCX\n",
    "        pdf_to_docx(pdf_file, docx_file)\n",
    "\n",
    "# Example usage\n",
    "pdf_directory = r'C:\\Users\\RADHA\\Documents\\gentask\\samplepdf'\n",
    "docx_directory = r'C:\\Users\\RADHA\\Documents\\gentask\\samplepdf2docx'\n",
    "\n",
    "convert_directory_pdf_to_docx(pdf_directory, docx_directory)\n"
   ]
  },
  {
   "cell_type": "code",
   "execution_count": 12,
   "id": "ab1abf06",
   "metadata": {},
   "outputs": [
    {
     "name": "stdout",
     "output_type": "stream",
     "text": [
      "Converting 1 PDF files to DOCX...\n",
      "Processed file 1/1\n",
      "Conversion completed successfully!\n"
     ]
    }
   ],
   "source": [
    "import os\n",
    "import glob\n",
    "from PyPDF2 import PdfReader\n",
    "from docx import Document\n",
    "\n",
    "def pdf_to_docx(pdf_path, docx_path):\n",
    "    pdf_reader = PdfReader(pdf_path)\n",
    "    document = Document()\n",
    "\n",
    "    for page_num in range(len(pdf_reader.pages)):\n",
    "        page = pdf_reader.pages[page_num]\n",
    "        text = page.extract_text()\n",
    "        document.add_paragraph(text)\n",
    "\n",
    "    document.save(docx_path)\n",
    "\n",
    "def convert_directory_pdf_to_docx(pdf_directory, docx_directory):\n",
    "    # Create the output directory if it doesn't exist\n",
    "    if not os.path.exists(docx_directory):\n",
    "        os.makedirs(docx_directory)\n",
    "\n",
    "    # Get a list of PDF files in the input directory\n",
    "    pdf_files = glob.glob(os.path.join(pdf_directory, '*.pdf'))\n",
    "\n",
    "    total_files = len(pdf_files)\n",
    "    print(f\"Converting {total_files} PDF files to DOCX...\")\n",
    "\n",
    "    for idx, pdf_file in enumerate(pdf_files, 1):\n",
    "        # Construct the output file path\n",
    "        base_name = os.path.basename(pdf_file)\n",
    "        file_name = os.path.splitext(base_name)[0]\n",
    "        docx_file = os.path.join(docx_directory, f'{file_name}.docx')\n",
    "\n",
    "        # Convert the PDF file to DOCX\n",
    "        pdf_to_docx(pdf_file, docx_file)\n",
    "\n",
    "        # Print the progress\n",
    "        print(f\"Processed file {idx}/{total_files}\")\n",
    "\n",
    "    print(\"Conversion completed successfully!\")\n",
    "\n",
    "# Example usage\n",
    "pdf_directory = r'C:\\Users\\RADHA\\Documents\\gentask\\samplepdf'\n",
    "docx_directory = r'C:\\Users\\RADHA\\Documents\\gentask\\samplepdf2docx'\n",
    "\n",
    "convert_directory_pdf_to_docx(pdf_directory, docx_directory)\n"
   ]
  },
  {
   "cell_type": "code",
   "execution_count": null,
   "id": "9fa756c2",
   "metadata": {},
   "outputs": [],
   "source": []
  }
 ],
 "metadata": {
  "kernelspec": {
   "display_name": "Python 3 (ipykernel)",
   "language": "python",
   "name": "python3"
  },
  "language_info": {
   "codemirror_mode": {
    "name": "ipython",
    "version": 3
   },
   "file_extension": ".py",
   "mimetype": "text/x-python",
   "name": "python",
   "nbconvert_exporter": "python",
   "pygments_lexer": "ipython3",
   "version": "3.10.9"
  }
 },
 "nbformat": 4,
 "nbformat_minor": 5
}
